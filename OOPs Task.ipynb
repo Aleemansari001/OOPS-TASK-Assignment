{
 "cells": [
  {
   "cell_type": "markdown",
   "id": "4ccf30ae-c0ad-4cd7-b6ec-fb53b36b3649",
   "metadata": {},
   "source": [
    "Q.1"
   ]
  },
  {
   "cell_type": "code",
   "execution_count": 1,
   "id": "2791be6b-314e-4c27-81d0-f6f8f1ef312e",
   "metadata": {},
   "outputs": [
    {
     "name": "stdout",
     "output_type": "stream",
     "text": [
      "Car\n",
      "200\n",
      "80\n",
      "Bike\n",
      "120\n",
      "60\n"
     ]
    }
   ],
   "source": [
    "class Vehicle:\n",
    "    def __init__(self, name_of_vehicle, max_speed, average_speed):\n",
    "        self.name_of_vehicle = name_of_vehicle\n",
    "        self.max_speed = max_speed\n",
    "        self.average_speed = average_speed\n",
    "\n",
    "\n",
    "# Creating instances of Vehicle\n",
    "car = Vehicle(\"Car\", 200, 80)\n",
    "bike = Vehicle(\"Bike\", 120, 60)\n",
    "\n",
    "# Accessing instance variables\n",
    "print(car.name_of_vehicle)  # Output: Car\n",
    "print(car.max_speed)  # Output: 200\n",
    "print(car.average_speed)  # Output: 80\n",
    "\n",
    "print(bike.name_of_vehicle)  # Output: Bike\n",
    "print(bike.max_speed)  # Output: 120\n",
    "print(bike.average_speed)  # Output: 60"
   ]
  },
  {
   "cell_type": "markdown",
   "id": "18096623-f6f1-4dd3-ae64-4b25c6bf2d7b",
   "metadata": {},
   "source": [
    "Q.2"
   ]
  },
  {
   "cell_type": "code",
   "execution_count": 2,
   "id": "a68b496d-8e4e-4293-bcb3-4a0179a1fdac",
   "metadata": {},
   "outputs": [
    {
     "name": "stdout",
     "output_type": "stream",
     "text": [
      "Car\n",
      "200\n",
      "80\n",
      "Car has a seating capacity of 5.\n"
     ]
    }
   ],
   "source": [
    "class Vehicle:\n",
    "    def __init__(self, name_of_vehicle, max_speed, average_speed):\n",
    "        self.name_of_vehicle = name_of_vehicle\n",
    "        self.max_speed = max_speed\n",
    "        self.average_speed = average_speed\n",
    "\n",
    "\n",
    "class Car(Vehicle):\n",
    "    def seating_capacity(self, capacity):\n",
    "        return f\"{self.name_of_vehicle} has a seating capacity of {capacity}.\"\n",
    "\n",
    "\n",
    "# Creating instances of Car\n",
    "car = Car(\"Car\", 200, 80)\n",
    "\n",
    "# Accessing inherited instance variables\n",
    "print(car.name_of_vehicle)  # Output: Car\n",
    "print(car.max_speed)  # Output: 200\n",
    "print(car.average_speed)  # Output: 80\n",
    "\n",
    "# Calling the seating_capacity method\n",
    "capacity = 5\n",
    "result = car.seating_capacity(capacity)\n",
    "print(result)  # Output: Car has a seating capacity of 5."
   ]
  },
  {
   "cell_type": "markdown",
   "id": "547c7fb0-a9ab-4683-8e97-682953ad763d",
   "metadata": {},
   "source": [
    "Q.3"
   ]
  },
  {
   "cell_type": "markdown",
   "id": "0b6cb54b-9488-4e44-b7b8-0efdf0053c5e",
   "metadata": {},
   "source": [
    "If a child class inherits from more than one class, i.e. this child class is derived from multiple classes, we call it multiple inheritance ."
   ]
  },
  {
   "cell_type": "code",
   "execution_count": 3,
   "id": "fdfed557-e905-4e8e-b27d-76777e74f809",
   "metadata": {},
   "outputs": [],
   "source": [
    "class class1:\n",
    "    def test_class1(self):\n",
    "        return \"This is from class1\""
   ]
  },
  {
   "cell_type": "code",
   "execution_count": 5,
   "id": "52ea7308-066c-416f-8294-bc59923c6d4f",
   "metadata": {},
   "outputs": [],
   "source": [
    "class class2(class1):\n",
    "    def test_class2(self):\n",
    "        return \"This is from class2\""
   ]
  },
  {
   "cell_type": "code",
   "execution_count": 6,
   "id": "4f29579b-7490-4366-9a7a-2bc636f7722f",
   "metadata": {},
   "outputs": [],
   "source": [
    "class class3 (class2):\n",
    "    pass"
   ]
  },
  {
   "cell_type": "code",
   "execution_count": 7,
   "id": "dcf6ecce-331a-4b25-98b0-55d8181946ae",
   "metadata": {},
   "outputs": [],
   "source": [
    "obj_class3 = class3()"
   ]
  },
  {
   "cell_type": "code",
   "execution_count": 8,
   "id": "efe89af5-46c3-461c-a82d-87b957e77550",
   "metadata": {},
   "outputs": [
    {
     "data": {
      "text/plain": [
       "'This is from class1'"
      ]
     },
     "execution_count": 8,
     "metadata": {},
     "output_type": "execute_result"
    }
   ],
   "source": [
    "obj_class3.test_class1()"
   ]
  },
  {
   "cell_type": "code",
   "execution_count": 9,
   "id": "7ea4ac1b-aab6-44bc-b3f6-fa16f10a83b8",
   "metadata": {},
   "outputs": [
    {
     "data": {
      "text/plain": [
       "'This is from class2'"
      ]
     },
     "execution_count": 9,
     "metadata": {},
     "output_type": "execute_result"
    }
   ],
   "source": [
    "obj_class3.test_class2()"
   ]
  },
  {
   "cell_type": "markdown",
   "id": "2f8fa5cc-7907-40fc-aabe-09ba34fd2946",
   "metadata": {},
   "source": [
    "Q.4"
   ]
  },
  {
   "cell_type": "markdown",
   "id": "deb41a51-ce4f-40b8-9d96-d249fc5663cc",
   "metadata": {},
   "source": [
    "Getter: A method that allows us to access an attribute in a given class.\n",
    "Setter: A method that allows us to set or mutate the value of an attribute in a class."
   ]
  },
  {
   "cell_type": "code",
   "execution_count": 10,
   "id": "f24c7c8d-553b-41a0-899f-9ef382be3d9b",
   "metadata": {},
   "outputs": [
    {
     "name": "stdout",
     "output_type": "stream",
     "text": [
      "setter method called\n",
      "getter method called\n",
      "19\n"
     ]
    }
   ],
   "source": [
    "class Geeks:\n",
    "    def __init__(self):\n",
    "        self._age = 0\n",
    "\n",
    "    # using property decorator\n",
    "    # a getter function\n",
    "    @property\n",
    "    def age(self):\n",
    "        print(\"getter method called\")\n",
    "        return self._age\n",
    "\n",
    "    # a setter function\n",
    "    @age.setter\n",
    "    def age(self, a):\n",
    "        if(a < 18):\n",
    "            raise ValueError(\"Sorry you age is below eligibility criteria\")\n",
    "        print(\"setter method called\")\n",
    "        self._age = a\n",
    "\n",
    "mark = Geeks()\n",
    "\n",
    "mark.age = 19\n",
    "\n",
    "print(mark.age)"
   ]
  },
  {
   "cell_type": "markdown",
   "id": "1f378e36-f93f-41e7-944b-483f87d875b5",
   "metadata": {},
   "source": [
    "Q.5"
   ]
  },
  {
   "cell_type": "markdown",
   "id": "1f8dec28-63bc-4db3-97e4-7c2f1c798976",
   "metadata": {},
   "source": [
    "Method overriding is an ability of any object-oriented programming language that allows a subclass or child class to provide a specific implementation of a method that is already provided by one of its super-classes or parent classes. When a method in a subclass has the same name, same parameters or signature and same return type(or sub-type) as a method in its super-class, then the method in the subclass is said to override the method in the super-class."
   ]
  },
  {
   "cell_type": "code",
   "execution_count": 11,
   "id": "4afea7af-897e-4126-8b7d-ba6f8c187975",
   "metadata": {},
   "outputs": [
    {
     "name": "stdout",
     "output_type": "stream",
     "text": [
      "Animal makes a sound\n",
      "Meow\n",
      "Woof\n"
     ]
    }
   ],
   "source": [
    "class Animal:\n",
    "    def sound(self):\n",
    "        print(\"Animal makes a sound\")\n",
    "\n",
    "\n",
    "class Cat(Animal):\n",
    "    def sound(self):\n",
    "        print(\"Meow\")\n",
    "\n",
    "\n",
    "class Dog(Animal):\n",
    "    def sound(self):\n",
    "        print(\"Woof\")\n",
    "\n",
    "\n",
    "animal = Animal()\n",
    "animal.sound()  # Output: Animal makes a sound\n",
    "\n",
    "cat = Cat()\n",
    "cat.sound()  # Output: Meow\n",
    "\n",
    "dog = Dog()\n",
    "dog.sound()  # Output: Woof"
   ]
  },
  {
   "cell_type": "code",
   "execution_count": null,
   "id": "d210f55d-83d9-4a75-b5a1-8b4598cfc979",
   "metadata": {},
   "outputs": [],
   "source": []
  }
 ],
 "metadata": {
  "kernelspec": {
   "display_name": "Python 3 (ipykernel)",
   "language": "python",
   "name": "python3"
  },
  "language_info": {
   "codemirror_mode": {
    "name": "ipython",
    "version": 3
   },
   "file_extension": ".py",
   "mimetype": "text/x-python",
   "name": "python",
   "nbconvert_exporter": "python",
   "pygments_lexer": "ipython3",
   "version": "3.10.8"
  }
 },
 "nbformat": 4,
 "nbformat_minor": 5
}
